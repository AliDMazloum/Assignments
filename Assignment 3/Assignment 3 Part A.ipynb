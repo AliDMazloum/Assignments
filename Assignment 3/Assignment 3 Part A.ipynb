{
 "cells": [
  {
   "cell_type": "code",
   "execution_count": 1,
   "id": "09418bd4",
   "metadata": {},
   "outputs": [],
   "source": [
    "import numpy as np"
   ]
  },
  {
   "cell_type": "code",
   "execution_count": 2,
   "id": "d2472b36",
   "metadata": {},
   "outputs": [],
   "source": [
    "def print_row(counter, x, d, a, f=\"s\"):\n",
    "    if f ==\"s\":\n",
    "        print(\"k\\t\",\"x1\\t\", \"x2\\t\", \"d1\\t\", \"d2\\t\", \"||d||\\t\", \"a\\t\", \"f(x)\\t\")\n",
    "    else:        \n",
    "        x1 = round(x[0][0],6)\n",
    "        x2 = round(x[1][0],6)\n",
    "        d1 = round(d[0][0],6)\n",
    "        d2 = round(d[1][0],6)\n",
    "        d_norm = round(np.linalg.norm(d),6)\n",
    "        a = round(a[0],6)\n",
    "        f = round(f[0],6)\n",
    "        print(counter,\"\\t\", x1,\"\\t\", x2,\"\\t\", d1,\"\\t\", d2,\"\\t\", d_norm,\"\\t\", a,\"\\t\", f)"
   ]
  },
  {
   "cell_type": "code",
   "execution_count": 3,
   "id": "c9d2e469",
   "metadata": {},
   "outputs": [
    {
     "name": "stdout",
     "output_type": "stream",
     "text": [
      "k\t x1\t x2\t d1\t d2\t ||d||\t a\t f(x)\t\n",
      "0 \t 0 \t 10 \t -26 \t -14 \t 29.529646 \t 0.086645 \t 60\n",
      "1 \t -2.252782 \t 8.786963 \t 1.379968 \t -2.562798 \t 2.910712 \t 2.18 \t 22.222576\n",
      "2 \t 0.755548 \t 3.200064 \t -6.355739 \t -3.422321 \t 7.218567 \t 0.086645 \t 12.987827\n",
      "3 \t 0.204852 \t 2.903535 \t 0.337335 \t -0.62648 \t 0.711528 \t 2.18 \t 10.730379\n",
      "4 \t 0.940243 \t 1.537809 \t -1.55367 \t -0.836592 \t 1.76459 \t 0.086645 \t 10.178542\n",
      "5 \t 0.805625 \t 1.465322 \t 0.082462 \t -0.153144 \t 0.173934 \t 2.18 \t 10.043645\n",
      "6 \t 0.985392 \t 1.131468 \t -0.379797 \t -0.204506 \t 0.431357 \t 0.086645 \t 10.010669\n",
      "7 \t 0.952485 \t 1.113749 \t 0.020158 \t -0.037436 \t 0.042518 \t 2.18 \t 10.002608\n",
      "8 \t 0.996429 \t 1.032138 \t -0.092842 \t -0.049992 \t 0.105446 \t 0.086645 \t 10.000638\n",
      "9 \t 0.988385 \t 1.027806 \t 0.004928 \t -0.009151 \t 0.010394 \t 2.18 \t 10.000156\n",
      "10 \t 0.999127 \t 1.007856 \t -0.022695 \t -0.012221 \t 0.025776 \t 0.086645 \t 10.000038\n",
      "11 \t 0.997161 \t 1.006797 \t 0.001205 \t -0.002237 \t 0.002541 \t 2.18 \t 10.000009\n",
      "12 \t 0.999787 \t 1.00192 \t -0.005548 \t -0.002987 \t 0.006301 \t 0.086645 \t 10.000002\n",
      "13 \t 0.999306 \t 1.001662 \t 0.000294 \t -0.000547 \t 0.000621 \t 2.18 \t 10.000001\n",
      "14 \t 0.999948 \t 1.000469 \t -0.001356 \t -0.00073 \t 0.00154 \t 0.086645 \t 10.0\n",
      "15 \t 0.99983 \t 1.000406 \t 7.2e-05 \t -0.000134 \t 0.000152 \t 2.18 \t 10.0\n",
      "16 \t 0.999987 \t 1.000115 \t -0.000332 \t -0.000179 \t 0.000377 \t 0.086645 \t 10.0\n",
      "17 \t 0.999959 \t 1.000099 \t 1.8e-05 \t -3.3e-05 \t 3.7e-05 \t 2.18 \t 10.0\n",
      "18 \t 0.999997 \t 1.000028 \t -8.1e-05 \t -4.4e-05 \t 9.2e-05 \t 0.086645 \t 10.0\n",
      "19 \t 0.99999 \t 1.000024 \t 4e-06 \t -8e-06 \t 9e-06 \t 2.18 \t 10.0\n",
      "20 \t 0.999999 \t 1.000007 \t -2e-05 \t -1.1e-05 \t 2.3e-05 \t 0.086645 \t 10.0\n",
      "21 \t 0.999998 \t 1.000006 \t 1e-06 \t -2e-06 \t 2e-06 \t 2.18 \t 10.0\n",
      "22 \t 1.0 \t 1.000002 \t -5e-06 \t -3e-06 \t 6e-06 \t 0.086645 \t 10.0\n"
     ]
    },
    {
     "name": "stderr",
     "output_type": "stream",
     "text": [
      "C:\\Users\\alima\\AppData\\Local\\Temp\\ipykernel_14384\\1664134266.py:2: FutureWarning: elementwise comparison failed; returning scalar instead, but in the future will perform elementwise comparison\n",
      "  if f ==\"s\":\n"
     ]
    }
   ],
   "source": [
    "def f(x):\n",
    "    return(5*(x[0])**2 + x[1]**2 + 4*x[0]*x[1] - 14*x[0] -6*x[1] +20)\n",
    "\n",
    "def directoin_d(x):\n",
    "    d1 = -10*x[0] -4*x[1] +14\n",
    "    d2 = -2*x[1]-4*x[0] +6\n",
    "    return np.array([d1,d2])\n",
    "\n",
    "def stepSize_a (d:np.array):\n",
    "    return ((d[0]**2 + d[1]**2)/(2*(5*d[0]**2 + d[1]**2 + 4*d[0]*d[1])))\n",
    "\n",
    "\n",
    "x_current = np.array([[0],[10]])\n",
    "d_current = directoin_d(x_current)\n",
    "a_current = stepSize_a(d_current)\n",
    "apsilon = 10**(-6)\n",
    "counter = 0\n",
    "\n",
    "print_row(counter, x_current, d_current, a_current,f = \"s\")\n",
    "\n",
    "while (np.linalg.norm(d_current) > apsilon):\n",
    "    print_row(counter, x_current, d_current, a_current,f(x_current))\n",
    "    x_new = x_current + a_current*d_current\n",
    "    d_new = directoin_d(x_new)\n",
    "    a_new = stepSize_a(d_new)\n",
    "    \n",
    "    x_current = x_new\n",
    "    d_current = d_new\n",
    "    a_current = a_new\n",
    "    counter +=1"
   ]
  },
  {
   "cell_type": "code",
   "execution_count": 4,
   "id": "681a84b3",
   "metadata": {},
   "outputs": [],
   "source": [
    "def print_row(counter, x, d, a, f=\"s\"):\n",
    "    if f ==\"s\":\n",
    "        print(\"k\\t\",\"x1\\t\", \"x2\\t\", \"d1\\t\", \"d2\\t\", \"||d||\\t\", \"a\\t\", \"f(x)\\t\")\n",
    "    else:        \n",
    "        x1 = round(x[0][0],6)\n",
    "        x2 = round(x[1][0],6)\n",
    "        d1 = round(d[0][0],6)\n",
    "        d2 = round(d[1][0],6)\n",
    "        d_norm = round(np.linalg.norm(d),6)\n",
    "        a = round(a[0][0],6)\n",
    "        f = round(f[0][0],6)\n",
    "        print(counter,\"\\t\", x1,\"\\t\", x2,\"\\t\", d1,\"\\t\", d2,\"\\t\", d_norm,\"\\t\", a,\"\\t\", f)"
   ]
  },
  {
   "cell_type": "code",
   "execution_count": 5,
   "id": "63e9db64",
   "metadata": {},
   "outputs": [
    {
     "name": "stdout",
     "output_type": "stream",
     "text": [
      "k\t x1\t x2\t d1\t d2\t ||d||\t a\t f(x)\t\n",
      "0 \t 40 \t -100 \t -286 \t 6 \t 286.06293 \t 0.05055 \t 6050.0\n",
      "1 \t 25.542693 \t -99.6967 \t 1.629649 \t 77.679937 \t 77.697029 \t 0.450935 \t 3981.695128\n",
      "2 \t 26.277558 \t -64.66813 \t -188.210502 \t 3.948472 \t 188.251915 \t 0.05055 \t 2620.587793\n",
      "3 \t 16.763512 \t -64.468535 \t 1.072437 \t 51.11951 \t 51.130758 \t 0.450935 \t 1724.872077\n",
      "4 \t 17.247111 \t -41.41698 \t -123.857318 \t 2.598405 \t 123.884571 \t 0.05055 \t 1135.420663\n",
      "5 \t 10.98612 \t -41.28563 \t 0.705748 \t 33.64066 \t 33.648062 \t 0.450935 \t 747.515255\n",
      "6 \t 11.304366 \t -26.115894 \t -81.50786 \t 1.709955 \t 81.525795 \t 0.05055 \t 492.242977\n",
      "7 \t 7.184142 \t -26.029455 \t 0.464438 \t 22.138201 \t 22.143072 \t 0.450935 \t 324.253734\n",
      "8 \t 7.393573 \t -16.046575 \t -53.638585 \t 1.125285 \t 53.650387 \t 0.05055 \t 213.703595\n",
      "9 \t 4.682141 \t -15.989692 \t 0.305637 \t 14.568678 \t 14.571884 \t 0.450935 \t 140.952906\n",
      "79 \t -0.133331 \t 3.333325 \t 0.0 \t 6e-06 \t 6e-06 \t 0.450935 \t 0.933333\n",
      "80 \t -0.133331 \t 3.333328 \t -1.5e-05 \t 0.0 \t 1.5e-05 \t 0.05055 \t 0.933333\n",
      "81 \t -0.133332 \t 3.333328 \t 0.0 \t 4e-06 \t 4e-06 \t 0.450935 \t 0.933333\n",
      "82 \t -0.133332 \t 3.33333 \t -1e-05 \t 0.0 \t 1e-05 \t 0.05055 \t 0.933333\n",
      "83 \t -0.133332 \t 3.33333 \t 0.0 \t 3e-06 \t 3e-06 \t 0.450935 \t 0.933333\n",
      "84 \t -0.133332 \t 3.333331 \t -7e-06 \t 0.0 \t 7e-06 \t 0.05055 \t 0.933333\n",
      "85 \t -0.133333 \t 3.333331 \t 0.0 \t 2e-06 \t 2e-06 \t 0.450935 \t 0.933333\n",
      "86 \t -0.133333 \t 3.333332 \t -4e-06 \t 0.0 \t 4e-06 \t 0.05055 \t 0.933333\n",
      "87 \t -0.133333 \t 3.333332 \t 0.0 \t 1e-06 \t 1e-06 \t 0.450935 \t 0.933333\n",
      "88 \t -0.133333 \t 3.333332 \t -3e-06 \t 0.0 \t 3e-06 \t 0.05055 \t 0.933333\n"
     ]
    },
    {
     "name": "stderr",
     "output_type": "stream",
     "text": [
      "C:\\Users\\alima\\AppData\\Local\\Temp\\ipykernel_14384\\1704826873.py:2: FutureWarning: elementwise comparison failed; returning scalar instead, but in the future will perform elementwise comparison\n",
      "  if f ==\"s\":\n"
     ]
    }
   ],
   "source": [
    "def f(x,Q,C):\n",
    "    return (0.5*np.dot(np.dot(np.transpose(x),Q),x) - np.dot(np.transpose(C),x) +10)\n",
    "\n",
    "#Gradiant = Qx-C => d = - gradiant = -(Qx-C)\n",
    "def directoin_d(x,Q,C):\n",
    "    return -(np.dot(Q,x) - C)\n",
    "#stepSize = (C_t . d - x_t.Q_t.d)/(d_t.Q.d)\n",
    "def stepSize_a (x,Q,C,d):\n",
    "    upper = np.dot(np.transpose(C),d) - np.dot(np.dot(np.transpose(x),Q),d)\n",
    "    lower = np.dot(np.dot(np.transpose(d),Q),d)\n",
    "    \n",
    "    return (upper/lower)\n",
    "\n",
    "\n",
    "x_current = np.array([[40],[-100]])\n",
    "Q = np.array([[20,5],\n",
    "              [5,2]])\n",
    "\n",
    "C = np.array([[14],\n",
    "              [6]])\n",
    "\n",
    "d_current = directoin_d(x_current, Q, C)\n",
    "a_current = stepSize_a(x_current, Q, C,d_current)\n",
    "apsilon = 10**(-6)\n",
    "counter = 0\n",
    "\n",
    "print_row(counter, x_current, d_current, a_current,f = \"s\")\n",
    "\n",
    "while (np.linalg.norm(d_current) > apsilon):\n",
    "    if counter < 10 or counter >78:\n",
    "        print_row(counter, x_current, d_current, a_current,f(x_current,Q,C))\n",
    "    x_new = x_current + a_current*d_current\n",
    "    d_new = directoin_d(x_new, Q, C)\n",
    "    a_new = stepSize_a(x_new, Q, C,d_new)\n",
    "    \n",
    "    x_current = x_new\n",
    "    d_current = d_new\n",
    "    a_current = a_new\n",
    "    counter+=1"
   ]
  },
  {
   "cell_type": "code",
   "execution_count": 6,
   "id": "49d478a6",
   "metadata": {},
   "outputs": [
    {
     "name": "stdout",
     "output_type": "stream",
     "text": [
      "k\t x1\t x2\t d1\t d2\t ||d||\t a\t f(x)\t\n",
      "0 \t 40 \t -100 \t -286 \t 1406 \t 1434.793365 \t 0.070395 \t 76050.0\n",
      "1 \t 19.867118 \t -1.02506 \t -378.217049 \t -76.93462 \t 385.962527 \t 0.045883 \t 3591.615327\n",
      "2 \t 2.513241 \t -4.555081 \t -13.489414 \t 66.31509 \t 67.673152 \t 0.070395 \t 174.05893\n",
      "3 \t 1.563658 \t 0.11315 \t -17.838903 \t -3.628682 \t 18.204225 \t 0.045883 \t 12.867208\n",
      "4 \t 0.745149 \t -0.053347 \t -0.636239 \t 3.127803 \t 3.191857 \t 0.070395 \t 5.264475\n",
      "5 \t 0.700361 \t 0.166834 \t -0.841386 \t -0.17115 \t 0.858616 \t 0.045883 \t 4.905886\n",
      "6 \t 0.661755 \t 0.158981 \t -0.030009 \t 0.147525 \t 0.150546 \t 0.070395 \t 4.888973\n",
      "7 \t 0.659643 \t 0.169366 \t -0.039685 \t -0.008072 \t 0.040497 \t 0.045883 \t 4.888175\n",
      "8 \t 0.657822 \t 0.168996 \t -0.001415 \t 0.006958 \t 0.007101 \t 0.070395 \t 4.888137\n",
      "9 \t 0.657722 \t 0.169486 \t -0.001872 \t -0.000381 \t 0.00191 \t 0.045883 \t 4.888136\n",
      "10 \t 0.657636 \t 0.169468 \t -6.7e-05 \t 0.000328 \t 0.000335 \t 0.070395 \t 4.888136\n",
      "11 \t 0.657632 \t 0.169491 \t -8.8e-05 \t -1.8e-05 \t 9e-05 \t 0.045883 \t 4.888136\n",
      "12 \t 0.657628 \t 0.16949 \t -3e-06 \t 1.5e-05 \t 1.6e-05 \t 0.070395 \t 4.888136\n",
      "13 \t 0.657627 \t 0.169492 \t -4e-06 \t -1e-06 \t 4e-06 \t 0.045883 \t 4.888136\n"
     ]
    },
    {
     "name": "stderr",
     "output_type": "stream",
     "text": [
      "C:\\Users\\alima\\AppData\\Local\\Temp\\ipykernel_14384\\1704826873.py:2: FutureWarning: elementwise comparison failed; returning scalar instead, but in the future will perform elementwise comparison\n",
      "  if f ==\"s\":\n"
     ]
    }
   ],
   "source": [
    "x_current = np.array([[40],[-100]])\n",
    "Q = np.array([[20,5],\n",
    "              [5,16]])\n",
    "\n",
    "C = np.array([[14],\n",
    "              [6]])\n",
    "\n",
    "d_current = directoin_d(x_current, Q, C)\n",
    "a_current = stepSize_a(x_current, Q, C,d_current)\n",
    "apsilon = 10**(-6)\n",
    "counter = 0\n",
    "\n",
    "print_row(counter, x_current, d_current, a_current,f=\"s\")\n",
    "\n",
    "while (np.linalg.norm(d_current) > apsilon):\n",
    "    print_row(counter, x_current, d_current, a_current,f(x_current,Q,C))\n",
    "    \n",
    "    x_new = x_current + a_current*d_current\n",
    "    d_new = directoin_d(x_new, Q, C)\n",
    "    a_new = stepSize_a(x_new, Q, C,d_new)\n",
    "    \n",
    "    x_current = x_new\n",
    "    d_current = d_new\n",
    "    a_current = a_new\n",
    "    counter+=1\n",
    "    "
   ]
  }
 ],
 "metadata": {
  "kernelspec": {
   "display_name": "Python 3 (ipykernel)",
   "language": "python",
   "name": "python3"
  },
  "language_info": {
   "codemirror_mode": {
    "name": "ipython",
    "version": 3
   },
   "file_extension": ".py",
   "mimetype": "text/x-python",
   "name": "python",
   "nbconvert_exporter": "python",
   "pygments_lexer": "ipython3",
   "version": "3.10.9"
  }
 },
 "nbformat": 4,
 "nbformat_minor": 5
}
